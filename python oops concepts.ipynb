{
 "cells": [
  {
   "cell_type": "code",
   "execution_count": 1,
   "metadata": {},
   "outputs": [
    {
     "name": "stdout",
     "output_type": "stream",
     "text": [
      "n = 3\n",
      "n1= 3\n"
     ]
    }
   ],
   "source": [
    "class abc:\n",
    "    def xyz(self,n):\n",
    "        n1 = n\n",
    "        print(\"n =\",n)\n",
    "        print(\"n1=\",n1)\n",
    "o = abc()\n",
    "o.xyz(3)"
   ]
  },
  {
   "cell_type": "code",
   "execution_count": 3,
   "metadata": {},
   "outputs": [
    {
     "name": "stdout",
     "output_type": "stream",
     "text": [
      "n =  9\n",
      "self.n 9\n",
      "n= 9\n",
      "self.n 10\n"
     ]
    }
   ],
   "source": [
    "class abc:\n",
    "    def xyz(self,n):\n",
    "        self.n = n\n",
    "        print(\"n = \",n)\n",
    "        print(\"self.n\",self.n)\n",
    "        print(\"n=\",n)\n",
    "        self.n =n+1\n",
    "        print(\"self.n\",self.n)\n",
    "o = abc()\n",
    "o.xyz(9)"
   ]
  },
  {
   "cell_type": "code",
   "execution_count": 4,
   "metadata": {},
   "outputs": [],
   "source": [
    "#constructor is a initializer"
   ]
  },
  {
   "cell_type": "code",
   "execution_count": 5,
   "metadata": {},
   "outputs": [],
   "source": [
    "# name of the constructor in python is __init__\n"
   ]
  },
  {
   "cell_type": "code",
   "execution_count": 7,
   "metadata": {},
   "outputs": [],
   "source": [
    "#__init__ i always the first function in the class"
   ]
  },
  {
   "cell_type": "code",
   "execution_count": 8,
   "metadata": {},
   "outputs": [],
   "source": [
    "#constructors are automatically called in class"
   ]
  },
  {
   "cell_type": "code",
   "execution_count": 15,
   "metadata": {},
   "outputs": [
    {
     "name": "stdout",
     "output_type": "stream",
     "text": [
      "7\n",
      "8\n",
      "56\n"
     ]
    }
   ],
   "source": [
    "class xyz:\n",
    "    def __init__(self,n): #constructor\n",
    "        self.n1=n+1\n",
    "        print(n)\n",
    "        print(self.n1)\n",
    "        print(self.n1*n)\n",
    "    def mn0(self):\n",
    "        print(\"hi\")\n",
    "        \n",
    "        \n",
    "        \n",
    "s = xyz(7) #automatically called\n",
    "    "
   ]
  },
  {
   "cell_type": "code",
   "execution_count": 16,
   "metadata": {},
   "outputs": [
    {
     "name": "stdout",
     "output_type": "stream",
     "text": [
      "4\n",
      "5\n",
      "20\n",
      "hi\n"
     ]
    }
   ],
   "source": [
    "class xyz:\n",
    "    def __init__(self,n): #constructor\n",
    "        self.n1=n+1\n",
    "        print(n)\n",
    "        print(self.n1)\n",
    "        print(self.n1*n)\n",
    "    def mn0(self):\n",
    "        print(\"hi\")\n",
    "        \n",
    "        \n",
    "        \n",
    "s = xyz(4) \n",
    "s.mn0()   # explicitly called function"
   ]
  },
  {
   "cell_type": "code",
   "execution_count": 20,
   "metadata": {},
   "outputs": [
    {
     "name": "stdout",
     "output_type": "stream",
     "text": [
      "hi\n",
      "karthik\n"
     ]
    }
   ],
   "source": [
    "class xyz:\n",
    "    def __init__(self): #constructor\n",
    "        \n",
    "        print(\"hi\")\n",
    "        \n",
    "        \n",
    "    def mn0(self):\n",
    "        print(\"karthik\")\n",
    "        \n",
    "        \n",
    "        \n",
    "s = xyz() # there is no argument so , we have not set any parameter\n",
    "s.mn0()   # explicitly called f"
   ]
  },
  {
   "cell_type": "code",
   "execution_count": 26,
   "metadata": {},
   "outputs": [
    {
     "name": "stdout",
     "output_type": "stream",
     "text": [
      "buji 8 years old\n",
      "karthik\n"
     ]
    }
   ],
   "source": [
    "class xyz:\n",
    "    def __init__(self): #constructor 1\n",
    "        \n",
    "        print(\"hi\")\n",
    "    def __init__(self,n): #constructor 2\n",
    "        print(\"buji\",n ,\"years old\")\n",
    "        \n",
    "        \n",
    "    def mn0(self):\n",
    "        print(\"karthik\")\n",
    "        \n",
    "        \n",
    "        \n",
    "s = xyz(8) # there is no argument so , we have not set any parameter\n",
    "s.mn0()   # explicitly called f"
   ]
  },
  {
   "cell_type": "code",
   "execution_count": 27,
   "metadata": {},
   "outputs": [],
   "source": [
    "# having two constructors is of no use , make sure to have only one constructor "
   ]
  },
  {
   "cell_type": "code",
   "execution_count": 28,
   "metadata": {},
   "outputs": [],
   "source": [
    "#one constructor for one class is mandatory\n",
    "# constructor overloading is not supported in python"
   ]
  },
  {
   "cell_type": "code",
   "execution_count": 30,
   "metadata": {},
   "outputs": [],
   "source": [
    "class st:\n",
    "    def add(self,a,b):\n",
    "        self.a = a\n",
    "        self.b = b\n",
    "        return self.a+self.b\n",
    "s = st()\n",
    "   s.add(4,3)"
   ]
  },
  {
   "cell_type": "code",
   "execution_count": 31,
   "metadata": {},
   "outputs": [
    {
     "name": "stdout",
     "output_type": "stream",
     "text": [
      "hello darshan\n",
      "hello python\n"
     ]
    }
   ],
   "source": [
    "class abc:\n",
    "    def __init__(self,n):\n",
    "        print(\"hello\",n)\n",
    "    def __del__(self): # deletion of the o bject as soon the object is no longer used\n",
    "        print(\"object deleted\")\n",
    "s1 = abc(\"darshan\")\n",
    "s2 = abc(\"python\")"
   ]
  },
  {
   "cell_type": "code",
   "execution_count": 32,
   "metadata": {},
   "outputs": [],
   "source": [
    "# del is used to free the memory of the variable as soon the variable is no longer used"
   ]
  },
  {
   "cell_type": "code",
   "execution_count": 33,
   "metadata": {},
   "outputs": [],
   "source": [
    "#inheritance"
   ]
  },
  {
   "cell_type": "code",
   "execution_count": 34,
   "metadata": {},
   "outputs": [],
   "source": [
    "#super class"
   ]
  },
  {
   "cell_type": "code",
   "execution_count": 35,
   "metadata": {},
   "outputs": [],
   "source": [
    "#subclass"
   ]
  },
  {
   "cell_type": "code",
   "execution_count": 45,
   "metadata": {},
   "outputs": [
    {
     "name": "stdout",
     "output_type": "stream",
     "text": [
      "base calss\n",
      "child class or derived class\n"
     ]
    }
   ],
   "source": [
    "class abc:\n",
    "    def s1(self):\n",
    "        print(\"base calss\")\n",
    "class xyz(abc):\n",
    "    def s2(self):            # we need to always create object for derived class\n",
    "        \n",
    "        print(\"child class or derived class\")\n",
    "o = xyz()\n",
    "o.s1()\n",
    "o.s2()"
   ]
  },
  {
   "cell_type": "code",
   "execution_count": 46,
   "metadata": {},
   "outputs": [],
   "source": [
    "# there is no switch case in python"
   ]
  },
  {
   "cell_type": "code",
   "execution_count": 49,
   "metadata": {},
   "outputs": [
    {
     "name": "stdout",
     "output_type": "stream",
     "text": [
      "num1 7\n",
      "num2 8\n"
     ]
    },
    {
     "data": {
      "text/plain": [
       "15"
      ]
     },
     "execution_count": 49,
     "metadata": {},
     "output_type": "execute_result"
    }
   ],
   "source": [
    "class st1:\n",
    "    def num1(self):\n",
    "        self.n1 = 7\n",
    "        print(\"num1\", self.n1)\n",
    "class st2:\n",
    "    def num2(self):\n",
    "        self.n2 =8\n",
    "        print(\"num2\",self.n2)\n",
    "class st(st1,st2): # st is the child of both st1 and st2\n",
    "    def add(self):\n",
    "        return self.n1+self.n2\n",
    "s = st()\n",
    "s.num1()\n",
    "s.num2()\n",
    "s.add()"
   ]
  },
  {
   "cell_type": "code",
   "execution_count": 50,
   "metadata": {},
   "outputs": [],
   "source": [
    "#method overriding"
   ]
  },
  {
   "cell_type": "code",
   "execution_count": 52,
   "metadata": {},
   "outputs": [
    {
     "name": "stdout",
     "output_type": "stream",
     "text": [
      "derived class method\n"
     ]
    }
   ],
   "source": [
    "class T:\n",
    "    def show(self):\n",
    "        print(\"bass class method\")\n",
    "class s(T):\n",
    "    def show(self):\n",
    "        print(\"derived class method\")\n",
    "v = s()\n",
    "v.show()\n",
    "    \n",
    "       "
   ]
  },
  {
   "cell_type": "code",
   "execution_count": 53,
   "metadata": {},
   "outputs": [],
   "source": [
    "# classes having same methods (class having same function name)\n",
    "#one method will override the other method \n",
    "#show() of s is overriding the show() of T"
   ]
  },
  {
   "cell_type": "code",
   "execution_count": 54,
   "metadata": {},
   "outputs": [
    {
     "name": "stdout",
     "output_type": "stream",
     "text": [
      "derived class of the derived one\n"
     ]
    }
   ],
   "source": [
    "class T:\n",
    "    def show(self):\n",
    "        print(\"bass class method\")\n",
    "class s(T):\n",
    "    def show(self):\n",
    "        print(\"derived class method\")\n",
    "        \n",
    "class x(s):\n",
    "    def show(self):\n",
    "        print(\"derived class of the derived one\")\n",
    "v = x()\n",
    "\n",
    "v.show()\n",
    "\n",
    "    \n",
    "       "
   ]
  },
  {
   "cell_type": "code",
   "execution_count": 55,
   "metadata": {},
   "outputs": [],
   "source": [
    " # in method overriding the latest override is called"
   ]
  },
  {
   "cell_type": "code",
   "execution_count": null,
   "metadata": {},
   "outputs": [],
   "source": [
    "  "
   ]
  }
 ],
 "metadata": {
  "kernelspec": {
   "display_name": "Python 3",
   "language": "python",
   "name": "python3"
  },
  "language_info": {
   "codemirror_mode": {
    "name": "ipython",
    "version": 3
   },
   "file_extension": ".py",
   "mimetype": "text/x-python",
   "name": "python",
   "nbconvert_exporter": "python",
   "pygments_lexer": "ipython3",
   "version": "3.7.4"
  }
 },
 "nbformat": 4,
 "nbformat_minor": 2
}
